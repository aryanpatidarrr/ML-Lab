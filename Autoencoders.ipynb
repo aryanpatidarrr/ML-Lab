{
  "nbformat": 4,
  "nbformat_minor": 0,
  "metadata": {
    "colab": {
      "provenance": [],
      "include_colab_link": true
    },
    "kernelspec": {
      "name": "python3",
      "display_name": "Python 3"
    }
  },
  "cells": [
    {
      "cell_type": "markdown",
      "metadata": {
        "id": "view-in-github",
        "colab_type": "text"
      },
      "source": [
        "<a href=\"https://colab.research.google.com/github/aryanpatidarrr/ML-Lab/blob/main/Autoencoders.ipynb\" target=\"_parent\"><img src=\"https://colab.research.google.com/assets/colab-badge.svg\" alt=\"Open In Colab\"/></a>"
      ]
    },
    {
      "cell_type": "code",
      "metadata": {
        "id": "WQl8TSiHSOCU"
      },
      "source": [
        "from keras.layers import Input, Dense\n",
        "from keras.models import Model\n",
        "\n",
        "# this is the size of our encoded representations\n",
        "encoding_dim = 128  # 32 floats -> compression of factor 24.5, assuming the input is 784 floats\n",
        "\n",
        "# this is our input placeholder\n",
        "input_img = Input(shape=(784,))\n",
        "# \"encoded\" is the encoded representation of the input\n",
        "encoded = Dense(encoding_dim, activation='relu')(input_img)\n",
        "# \"decoded\" is the lossy reconstruction of the input\n",
        "decoded = Dense(784, activation='sigmoid')(encoded)\n",
        "\n",
        "# this model maps an input to its reconstruction\n",
        "autoencoder = Model(input_img, decoded)"
      ],
      "execution_count": 1,
      "outputs": []
    },
    {
      "cell_type": "code",
      "metadata": {
        "id": "Gq173u9YSTvU"
      },
      "source": [
        "# this model maps an input to its encoded representation\n",
        "encoder = Model(input_img, encoded)"
      ],
      "execution_count": 2,
      "outputs": []
    },
    {
      "cell_type": "code",
      "metadata": {
        "id": "q3K4BB0VSbfD"
      },
      "source": [
        "# create a placeholder for an encoded (32-dimensional) input\n",
        "encoded_input = Input(shape=(encoding_dim,))\n",
        "# retrieve the last layer of the autoencoder model\n",
        "decoder_layer = autoencoder.layers[-1]\n",
        "# create the decoder model\n",
        "decoder = Model(encoded_input, decoder_layer(encoded_input))"
      ],
      "execution_count": 3,
      "outputs": []
    },
    {
      "cell_type": "code",
      "metadata": {
        "id": "txJYhPm1SfLq"
      },
      "source": [
        "autoencoder.compile(optimizer='RMSprop', loss='binary_crossentropy')"
      ],
      "execution_count": 4,
      "outputs": []
    },
    {
      "cell_type": "code",
      "metadata": {
        "id": "ox4PzfObSiQd",
        "colab": {
          "base_uri": "https://localhost:8080/"
        },
        "outputId": "0520bef6-eddf-47ee-91d8-4d8824527afa"
      },
      "source": [
        "from keras.datasets import mnist\n",
        "import numpy as np\n",
        "(x_train, _), (x_test, _) = mnist.load_data()"
      ],
      "execution_count": 5,
      "outputs": [
        {
          "output_type": "stream",
          "name": "stdout",
          "text": [
            "11490434/11490434 [==============================] - 1s 0us/step\n"
          ]
        }
      ]
    },
    {
      "cell_type": "code",
      "metadata": {
        "id": "5riYiwmoSlDz",
        "colab": {
          "base_uri": "https://localhost:8080/"
        },
        "outputId": "ff892d4d-79d6-480a-a174-da378294c0ef"
      },
      "source": [
        "x_train = x_train.astype('float32') / 255.\n",
        "x_test = x_test.astype('float32') / 255.\n",
        "x_train = x_train.reshape((len(x_train), np.prod(x_train.shape[1:])))\n",
        "x_test = x_test.reshape((len(x_test), np.prod(x_test.shape[1:])))\n",
        "print (x_train.shape)\n",
        "print (x_test.shape)"
      ],
      "execution_count": 6,
      "outputs": [
        {
          "output_type": "stream",
          "name": "stdout",
          "text": [
            "(60000, 784)\n",
            "(10000, 784)\n"
          ]
        }
      ]
    },
    {
      "cell_type": "code",
      "metadata": {
        "id": "zzkP2dNISsfq",
        "colab": {
          "base_uri": "https://localhost:8080/"
        },
        "outputId": "42f6a465-3991-4b24-9c7d-c446d19fe318"
      },
      "source": [
        "autoencoder.fit(x_train, x_train,\n",
        "                epochs=12,\n",
        "                batch_size=144,\n",
        "                shuffle=True,\n",
        "                validation_data=(x_test, x_test))"
      ],
      "execution_count": 7,
      "outputs": [
        {
          "output_type": "stream",
          "name": "stdout",
          "text": [
            "Epoch 1/12\n",
            "417/417 [==============================] - 7s 14ms/step - loss: 0.2394 - val_loss: 0.1759\n",
            "Epoch 2/12\n",
            "417/417 [==============================] - 4s 11ms/step - loss: 0.1581 - val_loss: 0.1418\n",
            "Epoch 3/12\n",
            "417/417 [==============================] - 6s 14ms/step - loss: 0.1332 - val_loss: 0.1232\n",
            "Epoch 4/12\n",
            "417/417 [==============================] - 4s 10ms/step - loss: 0.1180 - val_loss: 0.1104\n",
            "Epoch 5/12\n",
            "417/417 [==============================] - 5s 11ms/step - loss: 0.1072 - val_loss: 0.1015\n",
            "Epoch 6/12\n",
            "417/417 [==============================] - 5s 13ms/step - loss: 0.0996 - val_loss: 0.0952\n",
            "Epoch 7/12\n",
            "417/417 [==============================] - 4s 11ms/step - loss: 0.0944 - val_loss: 0.0910\n",
            "Epoch 8/12\n",
            "417/417 [==============================] - 5s 12ms/step - loss: 0.0907 - val_loss: 0.0880\n",
            "Epoch 9/12\n",
            "417/417 [==============================] - 5s 12ms/step - loss: 0.0880 - val_loss: 0.0856\n",
            "Epoch 10/12\n",
            "417/417 [==============================] - 5s 11ms/step - loss: 0.0858 - val_loss: 0.0838\n",
            "Epoch 11/12\n",
            "417/417 [==============================] - 6s 14ms/step - loss: 0.0841 - val_loss: 0.0823\n",
            "Epoch 12/12\n",
            "417/417 [==============================] - 5s 11ms/step - loss: 0.0827 - val_loss: 0.0810\n"
          ]
        },
        {
          "output_type": "execute_result",
          "data": {
            "text/plain": [
              "<keras.src.callbacks.History at 0x7864c9b09c30>"
            ]
          },
          "metadata": {},
          "execution_count": 7
        }
      ]
    },
    {
      "cell_type": "code",
      "metadata": {
        "id": "OUr7fRVwSwHY",
        "colab": {
          "base_uri": "https://localhost:8080/"
        },
        "outputId": "8681ac8b-33f9-4ef5-e91a-f222b366092f"
      },
      "source": [
        "# encode and decode some digits\n",
        "# note that we take them from the *test* set\n",
        "encoded_imgs = encoder.predict(x_test)\n",
        "decoded_imgs = decoder.predict(encoded_imgs)"
      ],
      "execution_count": 8,
      "outputs": [
        {
          "output_type": "stream",
          "name": "stdout",
          "text": [
            "313/313 [==============================] - 1s 4ms/step\n",
            "313/313 [==============================] - 2s 6ms/step\n"
          ]
        }
      ]
    },
    {
      "cell_type": "code",
      "metadata": {
        "id": "HqkoJw8xSzH1",
        "colab": {
          "base_uri": "https://localhost:8080/",
          "height": 252
        },
        "outputId": "63d4204f-42c9-49b5-cd4c-1f4c765ede9b"
      },
      "source": [
        "# use Matplotlib (don't ask)\n",
        "import matplotlib.pyplot as plt\n",
        "\n",
        "n = 10  # how many digits we will display\n",
        "plt.figure(figsize=(20, 4))\n",
        "for i in range(n):\n",
        "    # display original\n",
        "    ax = plt.subplot(2, n, i + 1)\n",
        "    plt.imshow(x_test[i].reshape(28, 28))\n",
        "    plt.gray()\n",
        "    ax.get_xaxis().set_visible(False)\n",
        "    ax.get_yaxis().set_visible(False)\n",
        "\n",
        "    # display reconstruction\n",
        "    ax = plt.subplot(2, n, i + 1 + n)\n",
        "    plt.imshow(decoded_imgs[i].reshape(28, 28))\n",
        "    plt.gray()\n",
        "    ax.get_xaxis().set_visible(False)\n",
        "    ax.get_yaxis().set_visible(False)\n",
        "plt.show()"
      ],
      "execution_count": 9,
      "outputs": [
        {
          "output_type": "display_data",
          "data": {
            "text/plain": [
              "<Figure size 2000x400 with 20 Axes>"
            ],
            "image/png": "[encoded data removed]"
          },
          "metadata": {}
        }
      ]
    },
    {
      "cell_type": "code",
      "source": [
        "from keras.layers import Input, Dense\n",
        "from keras.models import Model\n",
        "\n",
        "# Define the size of the encoded representation\n",
        "encoding_dim = 256  # 32 floats -> compression of factor 24.5, assuming the input is 784 floats\n",
        "\n",
        "# Input placeholder\n",
        "input_img = Input(shape=(784,))\n",
        "\n",
        "# Encoding layers\n",
        "encoded = Dense(128, activation='relu')(input_img)\n",
        "encoded = Dense(64, activation='relu')(encoded)\n",
        "encoded = Dense(encoding_dim, activation='relu')(encoded)\n",
        "\n",
        "# Decoding layers\n",
        "decoded = Dense(64, activation='relu')(encoded)\n",
        "decoded = Dense(128, activation='relu')(decoded)\n",
        "decoded = Dense(784, activation='sigmoid')(decoded)\n",
        "\n",
        "# Autoencoder model\n",
        "autoencoder = Model(input_img, decoded)\n",
        "\n",
        "# Encoder model\n",
        "encoder = Model(input_img, encoded)\n",
        "\n",
        "# Decoder model\n",
        "encoded_input = Input(shape=(encoding_dim,))\n",
        "decoder_layer1 = autoencoder.layers[-3]\n",
        "decoder_layer2 = autoencoder.layers[-2]\n",
        "decoder_layer3 = autoencoder.layers[-1]\n",
        "decoder = Model(encoded_input, decoder_layer3(decoder_layer2(decoder_layer1(encoded_input))))\n"
      ],
      "metadata": {
        "id": "ODd0yFC1bl7l"
      },
      "execution_count": 10,
      "outputs": []
    },
    {
      "cell_type": "code",
      "source": [
        "# Compile the model\n",
        "autoencoder.compile(optimizer='adam', loss='binary_crossentropy')\n",
        "\n",
        "# Train the model\n",
        "autoencoder.fit(x_train, x_train,\n",
        "                epochs=12,\n",
        "                batch_size=1024,\n",
        "                shuffle=True,\n",
        "                validation_data=(x_test, x_test))\n",
        "\n"
      ],
      "metadata": {
        "colab": {
          "base_uri": "https://localhost:8080/"
        },
        "id": "pedaPEaRcAic",
        "outputId": "a3bb61d2-3380-402c-9cdf-bcbb7af2b644"
      },
      "execution_count": 11,
      "outputs": [
        {
          "output_type": "stream",
          "name": "stdout",
          "text": [
            "Epoch 1/12\n",
            "59/59 [==============================] - 5s 57ms/step - loss: 0.3555 - val_loss: 0.2574\n",
            "Epoch 2/12\n",
            "59/59 [==============================] - 3s 53ms/step - loss: 0.2324 - val_loss: 0.1991\n",
            "Epoch 3/12\n",
            "59/59 [==============================] - 4s 74ms/step - loss: 0.1816 - val_loss: 0.1647\n",
            "Epoch 4/12\n",
            "59/59 [==============================] - 3s 53ms/step - loss: 0.1562 - val_loss: 0.1460\n",
            "Epoch 5/12\n",
            "59/59 [==============================] - 3s 55ms/step - loss: 0.1424 - val_loss: 0.1360\n",
            "Epoch 6/12\n",
            "59/59 [==============================] - 3s 53ms/step - loss: 0.1334 - val_loss: 0.1279\n",
            "Epoch 7/12\n",
            "59/59 [==============================] - 4s 73ms/step - loss: 0.1271 - val_loss: 0.1235\n",
            "Epoch 8/12\n",
            "59/59 [==============================] - 3s 53ms/step - loss: 0.1228 - val_loss: 0.1193\n",
            "Epoch 9/12\n",
            "59/59 [==============================] - 3s 54ms/step - loss: 0.1190 - val_loss: 0.1155\n",
            "Epoch 10/12\n",
            "59/59 [==============================] - 4s 61ms/step - loss: 0.1155 - val_loss: 0.1127\n",
            "Epoch 11/12\n",
            "59/59 [==============================] - 4s 66ms/step - loss: 0.1127 - val_loss: 0.1102\n",
            "Epoch 12/12\n",
            "59/59 [==============================] - 3s 54ms/step - loss: 0.1105 - val_loss: 0.1079\n"
          ]
        },
        {
          "output_type": "execute_result",
          "data": {
            "text/plain": [
              "<keras.src.callbacks.History at 0x7864c32dab90>"
            ]
          },
          "metadata": {},
          "execution_count": 11
        }
      ]
    },
    {
      "cell_type": "code",
      "source": [
        "# encode and decode some digits\n",
        "# note that we take them from the *test* set\n",
        "encoded_imgs = encoder.predict(x_test)\n",
        "decoded_imgs = decoder.predict(encoded_imgs)"
      ],
      "metadata": {
        "colab": {
          "base_uri": "https://localhost:8080/"
        },
        "id": "NKK5C_rlcNDl",
        "outputId": "4e034556-0d0f-4c53-b438-07d9cc4e0a01"
      },
      "execution_count": 12,
      "outputs": [
        {
          "output_type": "stream",
          "name": "stdout",
          "text": [
            "313/313 [==============================] - 1s 2ms/step\n",
            "313/313 [==============================] - 1s 2ms/step\n"
          ]
        }
      ]
    },
    {
      "cell_type": "code",
      "source": [
        "# use Matplotlib (don't ask)\n",
        "import matplotlib.pyplot as plt\n",
        "\n",
        "n = 10  # how many digits we will display\n",
        "plt.figure(figsize=(20, 4))\n",
        "for i in range(n):\n",
        "    # display original\n",
        "    ax = plt.subplot(2, n, i + 1)\n",
        "    plt.imshow(x_test[i].reshape(28, 28))\n",
        "    plt.gray()\n",
        "    ax.get_xaxis().set_visible(False)\n",
        "    ax.get_yaxis().set_visible(False)\n",
        "\n",
        "    # display reconstruction\n",
        "    ax = plt.subplot(2, n, i + 1 + n)\n",
        "    plt.imshow(decoded_imgs[i].reshape(28, 28))\n",
        "    plt.gray()\n",
        "    ax.get_xaxis().set_visible(False)\n",
        "    ax.get_yaxis().set_visible(False)\n",
        "plt.show()"
      ],
      "metadata": {
        "colab": {
          "base_uri": "https://localhost:8080/",
          "height": 252
        },
        "id": "ZQA_n46BcI47",
        "outputId": "9c8e0e6e-afca-4961-e129-9fcb703a52e2"
      },
      "execution_count": 13,
      "outputs": [
        {
          "output_type": "display_data",
          "data": {
            "text/plain": [
              "<Figure size 2000x400 with 20 Axes>"
            ],
            "image/png": "[encoded data removed]"
          },
          "metadata": {}
        }
      ]
    }
  ]
}